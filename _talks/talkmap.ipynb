{
 "cells": [
  {
   "cell_type": "markdown",
   "metadata": {},
   "source": [
    "# Leaflet cluster map of talk locations\n",
    "\n",
    "Run this from the _talks/ directory, which contains .md files of all your talks. This scrapes the location YAML field from each .md file, geolocates it with geopy/Nominatim, and uses the getorg library to output data, HTML, and Javascript for a standalone cluster map."
   ]
  },
  {
   "cell_type": "code",
   "execution_count": 1,
   "metadata": {
    "collapsed": false
   },
   "outputs": [
    {
     "name": "stdout",
     "output_type": "stream",
     "text": [
      "Collecting getorg\n",
      "  Downloading getorg-0.3.1-py2.py3-none-any.whl (39 kB)\n",
      "Collecting geopy\n",
      "  Downloading geopy-2.3.0-py3-none-any.whl (119 kB)\n",
      "\u001b[2K     \u001b[90m━━━━━━━━━━━━━━━━━━━━━━━━━━━━━━━━━━━━━━━\u001b[0m \u001b[32m119.8/119.8 KB\u001b[0m \u001b[31m1.1 MB/s\u001b[0m eta \u001b[36m0:00:00\u001b[0ma \u001b[36m0:00:01\u001b[0m\n",
      "\u001b[?25hCollecting retrying\n",
      "  Downloading retrying-1.3.4-py3-none-any.whl (11 kB)\n",
      "Collecting pygithub\n",
      "  Downloading PyGithub-1.57-py3-none-any.whl (297 kB)\n",
      "\u001b[2K     \u001b[90m━━━━━━━━━━━━━━━━━━━━━━━━━━━━━━━━━━━━━━━\u001b[0m \u001b[32m297.6/297.6 KB\u001b[0m \u001b[31m1.2 MB/s\u001b[0m eta \u001b[36m0:00:00\u001b[0ma \u001b[36m0:00:01\u001b[0m\n",
      "\u001b[?25hCollecting geographiclib<3,>=1.52\n",
      "  Downloading geographiclib-2.0-py3-none-any.whl (40 kB)\n",
      "\u001b[2K     \u001b[90m━━━━━━━━━━━━━━━━━━━━━━━━━━━━━━━━━━━━━━━━\u001b[0m \u001b[32m40.3/40.3 KB\u001b[0m \u001b[31m1.2 MB/s\u001b[0m eta \u001b[36m0:00:00\u001b[0m\n",
      "\u001b[?25hRequirement already satisfied: requests>=2.14.0 in /Users/cta/miniforge3/envs/tensorflow/lib/python3.9/site-packages (from pygithub->getorg) (2.27.1)\n",
      "Collecting pynacl>=1.4.0\n",
      "  Downloading PyNaCl-1.5.0-cp36-abi3-macosx_10_10_universal2.whl (349 kB)\n",
      "\u001b[2K     \u001b[90m━━━━━━━━━━━━━━━━━━━━━━━━━━━━━━━━━━━━━━━\u001b[0m \u001b[32m349.9/349.9 KB\u001b[0m \u001b[31m1.3 MB/s\u001b[0m eta \u001b[36m0:00:00\u001b[0m00:01\u001b[0m00:01\u001b[0m\n",
      "\u001b[?25hRequirement already satisfied: deprecated in /Users/cta/miniforge3/envs/tensorflow/lib/python3.9/site-packages (from pygithub->getorg) (1.2.13)\n",
      "Requirement already satisfied: pyjwt>=2.4.0 in /Users/cta/miniforge3/envs/tensorflow/lib/python3.9/site-packages (from pygithub->getorg) (2.4.0)\n",
      "Requirement already satisfied: six>=1.7.0 in /Users/cta/miniforge3/envs/tensorflow/lib/python3.9/site-packages (from retrying->getorg) (1.16.0)\n",
      "Requirement already satisfied: cffi>=1.4.1 in /Users/cta/miniforge3/envs/tensorflow/lib/python3.9/site-packages (from pynacl>=1.4.0->pygithub->getorg) (1.15.0)\n",
      "Requirement already satisfied: charset-normalizer~=2.0.0 in /Users/cta/miniforge3/envs/tensorflow/lib/python3.9/site-packages (from requests>=2.14.0->pygithub->getorg) (2.0.11)\n",
      "Requirement already satisfied: certifi>=2017.4.17 in /Users/cta/miniforge3/envs/tensorflow/lib/python3.9/site-packages (from requests>=2.14.0->pygithub->getorg) (2021.10.8)\n",
      "Requirement already satisfied: urllib3<1.27,>=1.21.1 in /Users/cta/miniforge3/envs/tensorflow/lib/python3.9/site-packages (from requests>=2.14.0->pygithub->getorg) (1.26.8)\n",
      "Requirement already satisfied: idna<4,>=2.5 in /Users/cta/miniforge3/envs/tensorflow/lib/python3.9/site-packages (from requests>=2.14.0->pygithub->getorg) (3.3)\n",
      "Requirement already satisfied: wrapt<2,>=1.10 in /Users/cta/miniforge3/envs/tensorflow/lib/python3.9/site-packages (from deprecated->pygithub->getorg) (1.14.1)\n",
      "Requirement already satisfied: pycparser in /Users/cta/miniforge3/envs/tensorflow/lib/python3.9/site-packages (from cffi>=1.4.1->pynacl>=1.4.0->pygithub->getorg) (2.21)\n",
      "Installing collected packages: retrying, geographiclib, pynacl, geopy, pygithub, getorg\n",
      "Successfully installed geographiclib-2.0 geopy-2.3.0 getorg-0.3.1 pygithub-1.57 pynacl-1.5.0 retrying-1.3.4\n",
      "Iywidgets and ipyleaflet support disabled. You must be in a Jupyter notebook to use this feature.\n",
      "Error raised:\n",
      "No module named 'ipyleaflet'\n",
      "Check that you have enabled ipyleaflet in Jupyter with:\n",
      "    jupyter nbextension enable --py ipyleaflet\n"
     ]
    }
   ],
   "source": [
    "!pip install getorg --upgrade\n",
    "import glob\n",
    "import getorg\n",
    "from geopy import Nominatim"
   ]
  },
  {
   "cell_type": "code",
   "execution_count": 2,
   "metadata": {
    "collapsed": false
   },
   "outputs": [],
   "source": [
    "g = glob.glob(\"*.md\")"
   ]
  },
  {
   "cell_type": "code",
   "execution_count": 3,
   "metadata": {
    "collapsed": true
   },
   "outputs": [
    {
     "ename": "ConfigurationError",
     "evalue": "Using Nominatim with default or sample `user_agent` \"geopy/2.3.0\" is strongly discouraged, as it violates Nominatim's ToS https://operations.osmfoundation.org/policies/nominatim/ and may possibly cause 403 and 429 HTTP errors. Please specify a custom `user_agent` with `Nominatim(user_agent=\"my-application\")` or by overriding the default `user_agent`: `geopy.geocoders.options.default_user_agent = \"my-application\"`.",
     "output_type": "error",
     "traceback": [
      "\u001b[0;31m---------------------------------------------------------------------------\u001b[0m",
      "\u001b[0;31mConfigurationError\u001b[0m                        Traceback (most recent call last)",
      "\u001b[1;32m/Users/cta/Documents/GitHub/Zenif-NIght.github.io/talkmap.ipynb Cell 4\u001b[0m in \u001b[0;36m<module>\u001b[0;34m\u001b[0m\n\u001b[0;32m----> <a href='vscode-notebook-cell:/Users/cta/Documents/GitHub/Zenif-NIght.github.io/talkmap.ipynb#W3sZmlsZQ%3D%3D?line=0'>1</a>\u001b[0m geocoder \u001b[39m=\u001b[39m Nominatim()\n\u001b[1;32m      <a href='vscode-notebook-cell:/Users/cta/Documents/GitHub/Zenif-NIght.github.io/talkmap.ipynb#W3sZmlsZQ%3D%3D?line=1'>2</a>\u001b[0m location_dict \u001b[39m=\u001b[39m {}\n\u001b[1;32m      <a href='vscode-notebook-cell:/Users/cta/Documents/GitHub/Zenif-NIght.github.io/talkmap.ipynb#W3sZmlsZQ%3D%3D?line=2'>3</a>\u001b[0m location \u001b[39m=\u001b[39m \u001b[39m\"\u001b[39m\u001b[39m\"\u001b[39m\n",
      "File \u001b[0;32m~/miniforge3/envs/tensorflow/lib/python3.9/site-packages/geopy/geocoders/nominatim.py:105\u001b[0m, in \u001b[0;36mNominatim.__init__\u001b[0;34m(self, timeout, proxies, domain, scheme, user_agent, ssl_context, adapter_factory)\u001b[0m\n\u001b[1;32m    101\u001b[0m \u001b[39mself\u001b[39m\u001b[39m.\u001b[39mdomain \u001b[39m=\u001b[39m domain\u001b[39m.\u001b[39mstrip(\u001b[39m'\u001b[39m\u001b[39m/\u001b[39m\u001b[39m'\u001b[39m)\n\u001b[1;32m    103\u001b[0m \u001b[39mif\u001b[39;00m (\u001b[39mself\u001b[39m\u001b[39m.\u001b[39mdomain \u001b[39m==\u001b[39m _DEFAULT_NOMINATIM_DOMAIN\n\u001b[1;32m    104\u001b[0m         \u001b[39mand\u001b[39;00m \u001b[39mself\u001b[39m\u001b[39m.\u001b[39mheaders[\u001b[39m'\u001b[39m\u001b[39mUser-Agent\u001b[39m\u001b[39m'\u001b[39m] \u001b[39min\u001b[39;00m _REJECTED_USER_AGENTS):\n\u001b[0;32m--> 105\u001b[0m     \u001b[39mraise\u001b[39;00m ConfigurationError(\n\u001b[1;32m    106\u001b[0m         \u001b[39m'\u001b[39m\u001b[39mUsing Nominatim with default or sample `user_agent` \u001b[39m\u001b[39m\"\u001b[39m\u001b[39m%s\u001b[39;00m\u001b[39m\"\u001b[39m\u001b[39m is \u001b[39m\u001b[39m'\u001b[39m\n\u001b[1;32m    107\u001b[0m         \u001b[39m'\u001b[39m\u001b[39mstrongly discouraged, as it violates Nominatim\u001b[39m\u001b[39m\\'\u001b[39;00m\u001b[39ms ToS \u001b[39m\u001b[39m'\u001b[39m\n\u001b[1;32m    108\u001b[0m         \u001b[39m'\u001b[39m\u001b[39mhttps://operations.osmfoundation.org/policies/nominatim/ \u001b[39m\u001b[39m'\u001b[39m\n\u001b[1;32m    109\u001b[0m         \u001b[39m'\u001b[39m\u001b[39mand may possibly cause 403 and 429 HTTP errors. \u001b[39m\u001b[39m'\u001b[39m\n\u001b[1;32m    110\u001b[0m         \u001b[39m'\u001b[39m\u001b[39mPlease specify a custom `user_agent` with \u001b[39m\u001b[39m'\u001b[39m\n\u001b[1;32m    111\u001b[0m         \u001b[39m'\u001b[39m\u001b[39m`Nominatim(user_agent=\u001b[39m\u001b[39m\"\u001b[39m\u001b[39mmy-application\u001b[39m\u001b[39m\"\u001b[39m\u001b[39m)` or by \u001b[39m\u001b[39m'\u001b[39m\n\u001b[1;32m    112\u001b[0m         \u001b[39m'\u001b[39m\u001b[39moverriding the default `user_agent`: \u001b[39m\u001b[39m'\u001b[39m\n\u001b[1;32m    113\u001b[0m         \u001b[39m'\u001b[39m\u001b[39m`geopy.geocoders.options.default_user_agent = \u001b[39m\u001b[39m\"\u001b[39m\u001b[39mmy-application\u001b[39m\u001b[39m\"\u001b[39m\u001b[39m`.\u001b[39m\u001b[39m'\u001b[39m\n\u001b[1;32m    114\u001b[0m         \u001b[39m%\u001b[39m \u001b[39mself\u001b[39m\u001b[39m.\u001b[39mheaders[\u001b[39m'\u001b[39m\u001b[39mUser-Agent\u001b[39m\u001b[39m'\u001b[39m]\n\u001b[1;32m    115\u001b[0m     )\n\u001b[1;32m    117\u001b[0m \u001b[39mself\u001b[39m\u001b[39m.\u001b[39mapi \u001b[39m=\u001b[39m \u001b[39m\"\u001b[39m\u001b[39m%s\u001b[39;00m\u001b[39m://\u001b[39m\u001b[39m%s\u001b[39;00m\u001b[39m%s\u001b[39;00m\u001b[39m\"\u001b[39m \u001b[39m%\u001b[39m (\u001b[39mself\u001b[39m\u001b[39m.\u001b[39mscheme, \u001b[39mself\u001b[39m\u001b[39m.\u001b[39mdomain, \u001b[39mself\u001b[39m\u001b[39m.\u001b[39mgeocode_path)\n\u001b[1;32m    118\u001b[0m \u001b[39mself\u001b[39m\u001b[39m.\u001b[39mreverse_api \u001b[39m=\u001b[39m \u001b[39m\"\u001b[39m\u001b[39m%s\u001b[39;00m\u001b[39m://\u001b[39m\u001b[39m%s\u001b[39;00m\u001b[39m%s\u001b[39;00m\u001b[39m\"\u001b[39m \u001b[39m%\u001b[39m (\u001b[39mself\u001b[39m\u001b[39m.\u001b[39mscheme, \u001b[39mself\u001b[39m\u001b[39m.\u001b[39mdomain, \u001b[39mself\u001b[39m\u001b[39m.\u001b[39mreverse_path)\n",
      "\u001b[0;31mConfigurationError\u001b[0m: Using Nominatim with default or sample `user_agent` \"geopy/2.3.0\" is strongly discouraged, as it violates Nominatim's ToS https://operations.osmfoundation.org/policies/nominatim/ and may possibly cause 403 and 429 HTTP errors. Please specify a custom `user_agent` with `Nominatim(user_agent=\"my-application\")` or by overriding the default `user_agent`: `geopy.geocoders.options.default_user_agent = \"my-application\"`."
     ]
    }
   ],
   "source": [
    "geocoder = Nominatim()\n",
    "location_dict = {}\n",
    "location = \"\"\n",
    "permalink = \"\"\n",
    "title = \"\""
   ]
  },
  {
   "cell_type": "code",
   "execution_count": 4,
   "metadata": {
    "collapsed": false
   },
   "outputs": [
    {
     "name": "stdout",
     "output_type": "stream",
     "text": [
      "Berkeley CA, USA \n",
      " Berkeley, Alameda County, California, United States of America\n",
      "Los Angeles, CA \n",
      " LA, Los Angeles County, California, United States of America\n",
      "London, UK \n",
      " London, Greater London, England, UK\n",
      "San Francisco, California \n",
      " SF, California, United States of America\n"
     ]
    }
   ],
   "source": [
    "\n",
    "for file in g:\n",
    "    with open(file, 'r') as f:\n",
    "        lines = f.read()\n",
    "        if lines.find('location: \"') > 1:\n",
    "            loc_start = lines.find('location: \"') + 11\n",
    "            lines_trim = lines[loc_start:]\n",
    "            loc_end = lines_trim.find('\"')\n",
    "            location = lines_trim[:loc_end]\n",
    "                            \n",
    "           \n",
    "        location_dict[location] = geocoder.geocode(location)\n",
    "        print(location, \"\\n\", location_dict[location])\n"
   ]
  },
  {
   "cell_type": "code",
   "execution_count": 5,
   "metadata": {
    "collapsed": false
   },
   "outputs": [
    {
     "data": {
      "text/plain": [
       "'Written map to ../talkmap/'"
      ]
     },
     "execution_count": 5,
     "metadata": {},
     "output_type": "execute_result"
    }
   ],
   "source": [
    "m = getorg.orgmap.create_map_obj()\n",
    "getorg.orgmap.output_html_cluster_map(location_dict, folder_name=\"../talkmap\", hashed_usernames=False)"
   ]
  },
  {
   "cell_type": "code",
   "execution_count": null,
   "metadata": {
    "collapsed": true
   },
   "outputs": [],
   "source": []
  }
 ],
 "metadata": {
  "anaconda-cloud": {},
  "kernelspec": {
   "display_name": "tensorflow",
   "language": "python",
   "name": "python3"
  },
  "language_info": {
   "codemirror_mode": {
    "name": "ipython",
    "version": 3
   },
   "file_extension": ".py",
   "mimetype": "text/x-python",
   "name": "python",
   "nbconvert_exporter": "python",
   "pygments_lexer": "ipython3",
   "version": "3.9.7"
  },
  "vscode": {
   "interpreter": {
    "hash": "8e8d8c08c82d42aea5d1ea92a1de510157af9d17562c3c9d99653275bedade85"
   }
  }
 },
 "nbformat": 4,
 "nbformat_minor": 0
}
