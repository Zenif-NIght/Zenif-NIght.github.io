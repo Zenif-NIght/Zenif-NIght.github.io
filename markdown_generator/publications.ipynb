{
 "cells": [
  {
   "cell_type": "markdown",
   "metadata": {
    "deletable": true,
    "editable": true
   },
   "source": [
    "# Publications markdown generator for academicpages\n",
    "\n",
    "Takes a TSV of publications with metadata and converts them for use with [academicpages.github.io](academicpages.github.io). This is an interactive Jupyter notebook ([see more info here](http://jupyter-notebook-beginner-guide.readthedocs.io/en/latest/what_is_jupyter.html)). The core python code is also in `publications.py`. Run either from the `markdown_generator` folder after replacing `publications.tsv` with one containing your data.\n",
    "\n",
    "TODO: Make this work with BibTex and other databases of citations, rather than Stuart's non-standard TSV format and citation style.\n"
   ]
  },
  {
   "cell_type": "markdown",
   "metadata": {},
   "source": [
    "## Data format\n",
    "\n",
    "The TSV needs to have the following columns: pub_date, title, venue, excerpt, citation, site_url, and paper_url, with a header at the top. \n",
    "\n",
    "- `excerpt` and `paper_url` can be blank, but the others must have values. \n",
    "- `pub_date` must be formatted as YYYY-MM-DD.\n",
    "- `url_slug` will be the descriptive part of the .md file and the permalink URL for the page about the paper. The .md file will be `YYYY-MM-DD-[url_slug].md` and the permalink will be `https://[yourdomain]/publications/YYYY-MM-DD-[url_slug]`\n",
    "\n",
    "This is how the raw file looks (it doesn't look pretty, use a spreadsheet or other program to edit and create)."
   ]
  },
  {
   "cell_type": "code",
   "execution_count": 1,
   "metadata": {
    "collapsed": false
   },
   "outputs": [
    {
     "name": "stdout",
     "output_type": "stream",
     "text": [
      "pub_date\ttitle\tvenue\texcerpt\tcitation\turl_slug\tpaper_url\n",
      "2022-02-07\tImproving Methods for Multi-Terrain Classification Beyond Visual Perception\t2021 Fifth IEEE International Conference on Robotic Computing (IRC)\tTerrain classification in mixed-surface unstructured environments is key for safe navigation, energy efficiency, and anticipating motion volatility. This is particularly true for dynamically moving legged platforms which are highly impacted by foot ground interactions. This research demonstrates terrain classification using a long short-term memory (LSTM) model trained on actuator time series data, particularly the difference in center-of-pressure (COP) and leg forces. The LSTM COPForce model showed a 97.5% accuracy in classification on three outdoor surfaces with small amounts of data and no additional sensors.\t\"C. Allred, M. Russell, M. Harper and J. Pusey, \"\"Improving Methods for Multi-Terrain Classification Beyond Visual Perception,\"\" 2021 Fifth IEEE International Conference on Robotic Computing (IRC), Taichung, Taiwan, 2021, pp. 96-99, doi: 10.1109/IRC52146.2021.00022.\"\tImproving-Terrain-Classification\thttps://ieeexplore.ieee.org/abstract/document/9699886/\n",
      "2022-09-26\tDivide and Survey: Observability Through Multi-Drone City Roadway Coverage\t2022 IEEE International Smart Cities Conference (ISC2)\tDeploying autonomous drone systems in smart cities to identify unexpected events and adapt rapidly to crises has a great potential for optimizing city operations and increasing city-wide situational awareness. This work presents an algorithmic technique, Postman Moving Voronoi Coverage (PMVC), which effectively distributes and plans coverage routes for each drone agent. PMVC divides city roadways into similarly sized subregions based on system limitations for many types of unmanned aerial vehicle (UAV). The findings describe trade-offs a city must make between drone types, number of systems, and the desired speed of city-wide road network traversal. Often, employing more low capacity drones are more cost and time effective for city coverage.\t\"H. Kocabas, C. Allred and M. Harper, \"\"Divide and Survey: Observability Through Multi-Drone City Roadway Coverage,\"\" 2022 IEEE International Smart Cities Conference (ISC2), Pafos, Cyprus, 2022, pp. 1-7, doi: 10.1109/ISC255366.2022.9922207.\"\tMulti-Drone-City-Roadway-Coverage\thttps://ieeexplore.ieee.org/abstract/document/9922207\n",
      "2023-01-24\tTerrain Dependent Power Estimation for Legged Robots in Unstructured Environments\t2022 Sixth IEEE International Conference on Robotic Computing (IRC)\tGait-based legged robots offer substantial advantages for traversing complicated, unstructured, or discontinuous terrain. Thus increasing their use in many real-world applications. However, they are also challenging to deploy due to limitations in operation time, range, and payload capabilities due to their complex locomotion and power needs. Anticipating the impact of terrain transitions on the range and average power consumption is crucial for understanding operational limits in autonomous and teleoperated missions. This study examines strategies for forecasting terrain-dependent energy costs on five unique surfaces (asphalt, concrete, grass, brush, and snow). The field experiments demonstrate the effectiveness of our combined proprioception and vision approach called MEP-VP. This hybrid framework only requires two seconds of motion data before returning actionable power estimates. Validation is conducted on physical hardware in field demonstration.\t\"C. Allred, H. Kocabas, M. Harper and J. Pusey, \"\"Terrain Dependent Power Estimation for Legged Robots in Unstructured Environments,\"\" 2022 Sixth IEEE International Conference on Robotic Computing (IRC), Italy, 2022, pp. 329-333, doi: 10.1109/IRC55401.2022.00064.\n",
      "\"\tTerrain-Power-Estimation-Legged-Robots\thttps://ieeexplore.ieee.org/document/10023912\n",
      "2023-11-1\tUnknown building exploration simulator (UBES)\tElsevier Journal Software Impacts\tThe Unknown Building Exploration Simulator (UBES) software is built to investigate effective strategies for multi-robot exploration of unknown, indoor environments. The software allows the assessment of different exploration techniques, offering the flexibility to modify initial and target conditions, and account for potential agent loss. A total of 12 distinct algorithms commonly used in modern multi-robot exploration are implemented for baseline analysis. The simulation software includes complex building environments that can be user-defined or randomly generated according to several adjustable parameters. Agents also include user-modifiable features such as agent count, sensor range, LiDar characteristics, and inter-agent communication capability.\t\"Allred, Christopher, Huzeyfe Kocabas, and Mario Harper. \"\"Unknown building exploration simulator (ubes).\"\" Software Impacts 18 (2023): 100576.\"\tUnknown-Building-Exploration\thttps://www.sciencedirect.com/science/article/pii/S2665963823001136\n",
      "2023-12-11\tDetecting Ballistic Motions in Quadruped Robots: A Boosted Tree Motif Classifier for Understanding Reinforcement Learning\t2023 Seventh IEEE International Conference on Robotic Computing (IRC)\tQuadrupedal robots require sophisticated algorithms to learn dynamic and ballistic motions, such as jumping. Traditional methods, which often employ Reinforcement Learning (RL), face inherent limitations in identifying the formation of desired actions during training. This study introduces the Boosted Tree Motif Classifier (BTMC), a novel approach designed to accurately detect complex motion patterns, thus facilitating learning dynamic actions in quadrupedal robots. Unlike classical motif search techniques and simple neural networks, which achieved a precision rate of merely 2% and 12%, respectively, in identifying a ”jump” motif, BTMC demonstrated remarkable efficiency with a 96% precision rate. The overall accuracy of BTMC was comparable to other learning approaches developed but superior in capturing essential motifs crucial for dynamic motions. The results highlight BTMC's potential as an innovative solution in RL-based robotic systems, offering an advancement in robotic locomotion. Our findings open up new avenues for RL's theoretical and practical applications in robotics.\t\"C. Allred, J. Pusey and M. Harper, \"\"Detecting Ballistic Motions in Quadruped Robots: A Boosted Tree Motif Classifier for Understanding Reinforcement Learning,\"\" 2023 Seventh IEEE International Conference on Robotic Computing (IRC), Laguna Hills, CA, USA, 2023, pp. 143-151, doi: 10.1109/IRC59093.2023.00032.\"\tDetecting-Ballistic-Motions-in-Quadruped-Robots-BTMC-for-RL\thttps://ieeexplore.ieee.org/abstract/document/10473572"
     ]
    }
   ],
   "source": [
    "!cat publications.tsv"
   ]
  },
  {
   "cell_type": "markdown",
   "metadata": {},
   "source": [
    "## Import pandas\n",
    "\n",
    "We are using the very handy pandas library for dataframes."
   ]
  },
  {
   "cell_type": "code",
   "execution_count": 2,
   "metadata": {
    "collapsed": true,
    "deletable": true,
    "editable": true
   },
   "outputs": [],
   "source": [
    "import pandas as pd"
   ]
  },
  {
   "cell_type": "markdown",
   "metadata": {},
   "source": [
    "## Import TSV\n",
    "\n",
    "Pandas makes this easy with the read_csv function. We are using a TSV, so we specify the separator as a tab, or `\\t`.\n",
    "\n",
    "I found it important to put this data in a tab-separated values format, because there are a lot of commas in this kind of data and comma-separated values can get messed up. However, you can modify the import statement, as pandas also has read_excel(), read_json(), and others."
   ]
  },
  {
   "cell_type": "code",
   "execution_count": 3,
   "metadata": {
    "collapsed": false,
    "deletable": true,
    "editable": true
   },
   "outputs": [
    {
     "data": {
      "text/html": [
       "<div>\n",
       "<style scoped>\n",
       "    .dataframe tbody tr th:only-of-type {\n",
       "        vertical-align: middle;\n",
       "    }\n",
       "\n",
       "    .dataframe tbody tr th {\n",
       "        vertical-align: top;\n",
       "    }\n",
       "\n",
       "    .dataframe thead th {\n",
       "        text-align: right;\n",
       "    }\n",
       "</style>\n",
       "<table border=\"1\" class=\"dataframe\">\n",
       "  <thead>\n",
       "    <tr style=\"text-align: right;\">\n",
       "      <th></th>\n",
       "      <th>pub_date</th>\n",
       "      <th>title</th>\n",
       "      <th>venue</th>\n",
       "      <th>excerpt</th>\n",
       "      <th>citation</th>\n",
       "      <th>url_slug</th>\n",
       "      <th>paper_url</th>\n",
       "    </tr>\n",
       "  </thead>\n",
       "  <tbody>\n",
       "    <tr>\n",
       "      <th>0</th>\n",
       "      <td>2022-02-07</td>\n",
       "      <td>Improving Methods for Multi-Terrain Classifica...</td>\n",
       "      <td>2021 Fifth IEEE International Conference on Ro...</td>\n",
       "      <td>Terrain classification in mixed-surface unstru...</td>\n",
       "      <td>C. Allred, M. Russell, M. Harper and J. Pusey,...</td>\n",
       "      <td>Improving-Terrain-Classification</td>\n",
       "      <td>https://ieeexplore.ieee.org/abstract/document/...</td>\n",
       "    </tr>\n",
       "    <tr>\n",
       "      <th>1</th>\n",
       "      <td>2022-09-26</td>\n",
       "      <td>Divide and Survey: Observability Through Multi...</td>\n",
       "      <td>2022 IEEE International Smart Cities Conferenc...</td>\n",
       "      <td>Deploying autonomous drone systems in smart ci...</td>\n",
       "      <td>H. Kocabas, C. Allred and M. Harper, \"Divide a...</td>\n",
       "      <td>Multi-Drone-City-Roadway-Coverage</td>\n",
       "      <td>https://ieeexplore.ieee.org/abstract/document/...</td>\n",
       "    </tr>\n",
       "    <tr>\n",
       "      <th>2</th>\n",
       "      <td>2023-01-24</td>\n",
       "      <td>Terrain Dependent Power Estimation for Legged ...</td>\n",
       "      <td>2022 Sixth IEEE International Conference on Ro...</td>\n",
       "      <td>Gait-based legged robots offer substantial adv...</td>\n",
       "      <td>C. Allred, H. Kocabas, M. Harper and J. Pusey,...</td>\n",
       "      <td>Terrain-Power-Estimation-Legged-Robots</td>\n",
       "      <td>https://ieeexplore.ieee.org/document/10023912</td>\n",
       "    </tr>\n",
       "    <tr>\n",
       "      <th>3</th>\n",
       "      <td>2023-11-1</td>\n",
       "      <td>Unknown building exploration simulator (UBES)</td>\n",
       "      <td>Elsevier Journal Software Impacts</td>\n",
       "      <td>The Unknown Building Exploration Simulator (UB...</td>\n",
       "      <td>Allred, Christopher, Huzeyfe Kocabas, and Mari...</td>\n",
       "      <td>Unknown-Building-Exploration</td>\n",
       "      <td>https://www.sciencedirect.com/science/article/...</td>\n",
       "    </tr>\n",
       "    <tr>\n",
       "      <th>4</th>\n",
       "      <td>2023-12-11</td>\n",
       "      <td>Detecting Ballistic Motions in Quadruped Robot...</td>\n",
       "      <td>2023 Seventh IEEE International Conference on ...</td>\n",
       "      <td>Quadrupedal robots require sophisticated algor...</td>\n",
       "      <td>C. Allred, J. Pusey and M. Harper, \"Detecting ...</td>\n",
       "      <td>Detecting-Ballistic-Motions-in-Quadruped-Robot...</td>\n",
       "      <td>https://ieeexplore.ieee.org/abstract/document/...</td>\n",
       "    </tr>\n",
       "  </tbody>\n",
       "</table>\n",
       "</div>"
      ],
      "text/plain": [
       "     pub_date                                              title   \n",
       "0  2022-02-07  Improving Methods for Multi-Terrain Classifica...  \\\n",
       "1  2022-09-26  Divide and Survey: Observability Through Multi...   \n",
       "2  2023-01-24  Terrain Dependent Power Estimation for Legged ...   \n",
       "3   2023-11-1      Unknown building exploration simulator (UBES)   \n",
       "4  2023-12-11  Detecting Ballistic Motions in Quadruped Robot...   \n",
       "\n",
       "                                               venue   \n",
       "0  2021 Fifth IEEE International Conference on Ro...  \\\n",
       "1  2022 IEEE International Smart Cities Conferenc...   \n",
       "2  2022 Sixth IEEE International Conference on Ro...   \n",
       "3                  Elsevier Journal Software Impacts   \n",
       "4  2023 Seventh IEEE International Conference on ...   \n",
       "\n",
       "                                             excerpt   \n",
       "0  Terrain classification in mixed-surface unstru...  \\\n",
       "1  Deploying autonomous drone systems in smart ci...   \n",
       "2  Gait-based legged robots offer substantial adv...   \n",
       "3  The Unknown Building Exploration Simulator (UB...   \n",
       "4  Quadrupedal robots require sophisticated algor...   \n",
       "\n",
       "                                            citation   \n",
       "0  C. Allred, M. Russell, M. Harper and J. Pusey,...  \\\n",
       "1  H. Kocabas, C. Allred and M. Harper, \"Divide a...   \n",
       "2  C. Allred, H. Kocabas, M. Harper and J. Pusey,...   \n",
       "3  Allred, Christopher, Huzeyfe Kocabas, and Mari...   \n",
       "4  C. Allred, J. Pusey and M. Harper, \"Detecting ...   \n",
       "\n",
       "                                            url_slug   \n",
       "0                   Improving-Terrain-Classification  \\\n",
       "1                  Multi-Drone-City-Roadway-Coverage   \n",
       "2             Terrain-Power-Estimation-Legged-Robots   \n",
       "3                       Unknown-Building-Exploration   \n",
       "4  Detecting-Ballistic-Motions-in-Quadruped-Robot...   \n",
       "\n",
       "                                           paper_url  \n",
       "0  https://ieeexplore.ieee.org/abstract/document/...  \n",
       "1  https://ieeexplore.ieee.org/abstract/document/...  \n",
       "2      https://ieeexplore.ieee.org/document/10023912  \n",
       "3  https://www.sciencedirect.com/science/article/...  \n",
       "4  https://ieeexplore.ieee.org/abstract/document/...  "
      ]
     },
     "execution_count": 3,
     "metadata": {},
     "output_type": "execute_result"
    }
   ],
   "source": [
    "publications = pd.read_csv(\"publications.tsv\", sep=\"\\t\", header=0)\n",
    "publications\n"
   ]
  },
  {
   "cell_type": "markdown",
   "metadata": {},
   "source": [
    "## Escape special characters\n",
    "\n",
    "YAML is very picky about how it takes a valid string, so we are replacing single and double quotes (and ampersands) with their HTML encoded equivilents. This makes them look not so readable in raw format, but they are parsed and rendered nicely."
   ]
  },
  {
   "cell_type": "code",
   "execution_count": 4,
   "metadata": {
    "collapsed": true,
    "deletable": true,
    "editable": true
   },
   "outputs": [],
   "source": [
    "html_escape_table = {\n",
    "    \"&\": \"&amp;\",\n",
    "    '\"': \"&quot;\",\n",
    "    \"'\": \"&apos;\"\n",
    "    }\n",
    "\n",
    "def html_escape(text):\n",
    "    \"\"\"Produce entities within text.\"\"\"\n",
    "    return \"\".join(html_escape_table.get(c,c) for c in text)"
   ]
  },
  {
   "cell_type": "markdown",
   "metadata": {},
   "source": [
    "## Creating the markdown files\n",
    "\n",
    "This is where the heavy lifting is done. This loops through all the rows in the TSV dataframe, then starts to concatentate a big string (```md```) that contains the markdown for each type. It does the YAML metadata first, then does the description for the individual page."
   ]
  },
  {
   "cell_type": "code",
   "execution_count": 11,
   "metadata": {
    "collapsed": false,
    "deletable": true,
    "editable": true
   },
   "outputs": [],
   "source": [
    "import os\n",
    "for row, item in publications.iterrows():\n",
    "    \n",
    "    md_filename = str(item.pub_date) + \"-\" + item.url_slug + \".md\"\n",
    "    html_filename = str(item.pub_date) + \"-\" + item.url_slug\n",
    "    year = item.pub_date[:4]\n",
    "    \n",
    "    ## YAML variables\n",
    "    \n",
    "    md = \"---\\ntitle: \\\"\"   + item.title + '\"\\n'\n",
    "    \n",
    "    md += \"\"\"collection: publications\"\"\"\n",
    "    \n",
    "    md += \"\"\"\\npermalink: /publication/\"\"\" + html_filename\n",
    "    \n",
    "    if len(str(item.excerpt)) > 5:\n",
    "        md += \"\\nexcerpt: '\" + html_escape(item.excerpt) + \"'\"\n",
    "    \n",
    "    md += \"\\ndate: \" + str(item.pub_date) \n",
    "    \n",
    "    md += \"\\nvenue: '\" + html_escape(item.venue) + \"'\"\n",
    "    \n",
    "    if len(str(item.paper_url)) > 5:\n",
    "        md += \"\\npaperurl: '\" + item.paper_url + \"'\"\n",
    "    \n",
    "    md += \"\\ncitation: '\" + html_escape(item.citation) + \"'\"\n",
    "\n",
    "    # no_cite_gen\n",
    "    md += \"\\ncite_generation: false\"\n",
    "    \n",
    "    md += \"\\n---\"\n",
    "    \n",
    "    # Markdown description for individual page\n",
    "        \n",
    "    if len(str(item.excerpt)) > 5:\n",
    "        md += \"\\n\" + html_escape(item.excerpt) + \"\\n\"\n",
    "    \n",
    "    if len(str(item.paper_url)) > 5:\n",
    "        md += \"\\n[Download paper here](\" + item.paper_url + \")\\n\" \n",
    "        \n",
    "    md += \"\\n### Recommended citation: \\n\\n\" + item.citation\n",
    "    \n",
    "    md_filename = os.path.basename(md_filename)\n",
    "       \n",
    "    with open(\"../_publications/\" + md_filename, 'w') as f:\n",
    "        f.write(md)"
   ]
  },
  {
   "cell_type": "markdown",
   "metadata": {},
   "source": [
    "These files are in the publications directory, one directory below where we're working from."
   ]
  },
  {
   "cell_type": "code",
   "execution_count": 10,
   "metadata": {
    "collapsed": false,
    "deletable": true,
    "editable": true
   },
   "outputs": [
    {
     "name": "stdout",
     "output_type": "stream",
     "text": [
      "2022-02-07-Improving-Terrain-Classification.md\n",
      "2022-09-26-Multi-Drone-City-Roadway-Coverage.md\n",
      "2023-01-24-Terrain-Power-Estimation-Legged-Robots.md\n",
      "2023-11-1-Unknown-Building-Exploration.md\n",
      "2023-12-11-Detecting-Ballistic-Motions-in-Quadruped-Robots-BTMC-for-RL.md\n"
     ]
    }
   ],
   "source": [
    "!ls ../_publications/"
   ]
  },
  {
   "cell_type": "code",
   "execution_count": 7,
   "metadata": {
    "collapsed": false,
    "deletable": true,
    "editable": true
   },
   "outputs": [
    {
     "name": "stdout",
     "output_type": "stream",
     "text": [
      "cat: ../_publications/2009-10-01-paper-title-number-1.md: No such file or directory\n"
     ]
    }
   ],
   "source": [
    "!cat ../_publications/2009-10-01-paper-title-number-1.md"
   ]
  }
 ],
 "metadata": {
  "kernelspec": {
   "display_name": "Python 3",
   "language": "python",
   "name": "python3"
  },
  "language_info": {
   "codemirror_mode": {
    "name": "ipython",
    "version": 3
   },
   "file_extension": ".py",
   "mimetype": "text/x-python",
   "name": "python",
   "nbconvert_exporter": "python",
   "pygments_lexer": "ipython3",
   "version": "3.9.16"
  }
 },
 "nbformat": 4,
 "nbformat_minor": 0
}
